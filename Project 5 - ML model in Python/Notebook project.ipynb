{
 "cells": [
  {
   "cell_type": "markdown",
   "metadata": {},
   "source": [
    "# Project 5 - Machine Learning Model in Python\n",
    "\n",
    "Artificial intelligence has been with us for a long time, but it has never developed at such a dizzying pace as today. Its models accompany us at every step. Starting with assistants in phones and online stores who recommend applications or products to complex language models such as ChatGPT or Bard.\n",
    "\n",
    "In this project, I would like to use a popular set of tools in the most popular programming language, Python, in order not only to better understand the relationship between the data used in previous projects, but also to use them to build a model that will allow predicting the grades obtained by gymnastics competitors!\n",
    "\n",
    "Tools used:\n",
    "\n",
    "- Jupyter notebook\n",
    "\n",
    "- Python 3.11.2\n",
    "\n",
    "At the very beginning, we will prepare the environment in which we will work!"
   ]
  },
  {
   "cell_type": "code",
   "execution_count": 1,
   "metadata": {},
   "outputs": [],
   "source": [
    "import pandas as pd\n",
    "import matplotlib.pyplot as plt\n",
    "import seaborn as sns\n",
    "import numpy as np\n",
    "from scipy.stats import norm\n",
    "from sklearn.preprocessing import StandardScaler\n",
    "from scipy import stats\n",
    "import warnings\n",
    "warnings.filterwarnings('ignore')\n",
    "%matplotlib inline"
   ]
  },
  {
   "cell_type": "markdown",
   "metadata": {},
   "source": [
    "Ok, we have environments - now we need data!"
   ]
  },
  {
   "cell_type": "code",
   "execution_count": 2,
   "metadata": {},
   "outputs": [],
   "source": [
    "df_junior_qualification = pd.read_csv(\"E:/Gymnastics on GitHub!/Gymnastics-on-GitHub/Project 5 - ML model in Python/Data used in this project/2nd_Junior_World_Championship_2023/Qualification.csv\", sep=';')\n",
    "df_junior_AA = pd.read_csv(\"E:/Gymnastics on GitHub!/Gymnastics-on-GitHub/Project 5 - ML model in Python/Data used in this project/2nd_Junior_World_Championship_2023/AA_Final.csv\", sep=';')\n",
    "df_junior_FX = pd.read_csv(\"E:/Gymnastics on GitHub!/Gymnastics-on-GitHub/Project 5 - ML model in Python/Data used in this project/2nd_Junior_World_Championship_2023/FX_Final.csv\", sep=';')\n",
    "df_junior_PH = pd.read_csv(\"E:/Gymnastics on GitHub!/Gymnastics-on-GitHub/Project 5 - ML model in Python/Data used in this project/2nd_Junior_World_Championship_2023/PH_Final.csv\", sep=';')\n",
    "df_junior_SR = pd.read_csv(\"E:/Gymnastics on GitHub!/Gymnastics-on-GitHub/Project 5 - ML model in Python/Data used in this project/2nd_Junior_World_Championship_2023/SR_Final.csv\", sep=';')\n",
    "df_junior_VT = pd.read_csv(\"E:/Gymnastics on GitHub!/Gymnastics-on-GitHub/Project 5 - ML model in Python/Data used in this project/2nd_Junior_World_Championship_2023/VT_Final.csv\", sep=';')\n",
    "df_junior_PB = pd.read_csv(\"E:/Gymnastics on GitHub!/Gymnastics-on-GitHub/Project 5 - ML model in Python/Data used in this project/2nd_Junior_World_Championship_2023/PB_Final.csv\", sep=';')\n",
    "df_junior_HB = pd.read_csv(\"E:/Gymnastics on GitHub!/Gymnastics-on-GitHub/Project 5 - ML model in Python/Data used in this project/2nd_Junior_World_Championship_2023/HB_Final.csv\", sep=';')\n",
    "df_senior_qualification = pd.read_csv(\"E:/Gymnastics on GitHub!/Gymnastics-on-GitHub/Project 5 - ML model in Python/Data used in this project/51_FIG_World_Championship_2022/Qualification.csv\", sep=';')\n",
    "df_senior_AA = pd.read_csv(\"E:/Gymnastics on GitHub!/Gymnastics-on-GitHub/Project 5 - ML model in Python/Data used in this project/51_FIG_World_Championship_2022/AA_Final.csv\", sep=';')\n",
    "df_senior_FX = pd.read_csv(\"E:/Gymnastics on GitHub!/Gymnastics-on-GitHub/Project 5 - ML model in Python/Data used in this project/51_FIG_World_Championship_2022/FX_Final.csv\", sep=';')\n",
    "df_senior_PH = pd.read_csv(\"E:/Gymnastics on GitHub!/Gymnastics-on-GitHub/Project 5 - ML model in Python/Data used in this project/51_FIG_World_Championship_2022/PH_Final.csv\", sep=';')\n",
    "df_senior_SR = pd.read_csv(\"E:/Gymnastics on GitHub!/Gymnastics-on-GitHub/Project 5 - ML model in Python/Data used in this project/51_FIG_World_Championship_2022/SR_Final.csv\", sep=';')\n",
    "df_senior_VT = pd.read_csv(\"E:/Gymnastics on GitHub!/Gymnastics-on-GitHub/Project 5 - ML model in Python/Data used in this project/51_FIG_World_Championship_2022/VT_Final.csv\", sep=';')\n",
    "df_senior_PB = pd.read_csv(\"E:/Gymnastics on GitHub!/Gymnastics-on-GitHub/Project 5 - ML model in Python/Data used in this project/51_FIG_World_Championship_2022/PB_Final.csv\", sep=';')\n",
    "df_senior_HB = pd.read_csv(\"E:/Gymnastics on GitHub!/Gymnastics-on-GitHub/Project 5 - ML model in Python/Data used in this project/51_FIG_World_Championship_2022/HB_Final.csv\", sep=';')"
   ]
  },
  {
   "cell_type": "markdown",
   "metadata": {},
   "source": [
    "Ok, we have all the data that we will use to build the model. However, before we start creating it, let's take a look at the data itself and see if it requires cleaning."
   ]
  },
  {
   "cell_type": "code",
   "execution_count": 9,
   "metadata": {
    "tags": []
   },
   "outputs": [
    {
     "name": "stdout",
     "output_type": "stream",
     "text": [
      "Index(['Rank', 'Name', 'NOC', 'D\\nScore', 'E\\nScore', 'Penalty',\n",
      "       'Total Score'],\n",
      "      dtype='object')\n",
      "Index(['Rank', 'Name', 'NOC', 'D\\nScore', 'E\\nScore', 'Penalty',\n",
      "       'Total Score'],\n",
      "      dtype='object')\n",
      "Index(['Rank', 'Name', 'NOC', 'D_Score', 'E_Score', 'Penalty', 'Total_Score'], dtype='object')\n",
      "Index(['Rank', 'Name', 'NOC', 'D\\nScore', 'E\\nScore', 'Penalty',\n",
      "       'Total Score'],\n",
      "      dtype='object')\n"
     ]
    }
   ],
   "source": [
    "print(df_junior_FX.columns)\n",
    "print(df_junior_HB.columns)\n",
    "print(df_senior_FX.columns)\n",
    "print(df_junior_HB.columns)"
   ]
  },
  {
   "cell_type": "markdown",
   "metadata": {},
   "source": [
    "When we want to take a closer look at the data we imported, we notice that the fields containing numerical values ​​do not have the correct type. This absolutely needs to be fixed! Another problem is column names so let's fix this.\n",
    "\n",
    "First, column names fixing:"
   ]
  },
  {
   "cell_type": "code",
   "execution_count": 18,
   "metadata": {},
   "outputs": [
    {
     "name": "stdout",
     "output_type": "stream",
     "text": [
      "Index(['Rank', 'Name', 'Country', 'DScore', 'EScore', 'Penalty',\n",
      "       'Total Score'],\n",
      "      dtype='object')\n",
      "Index(['Rank', 'Name', 'Country', 'DScore', 'EScore', 'Penalty',\n",
      "       'Total Score'],\n",
      "      dtype='object')\n",
      "Index(['Rank', 'Name', 'Country', 'DScore', 'EScore', 'Penalty',\n",
      "       'Total Score'],\n",
      "      dtype='object')\n",
      "Index(['Rank', 'Name', 'Country', 'DScore', 'EScore', 'Penalty',\n",
      "       'Total Score'],\n",
      "      dtype='object')\n",
      "Index(['Rank', 'Name', 'Country', 'DScore', 'EScore', 'Penalty',\n",
      "       'Total Score'],\n",
      "      dtype='object')\n",
      "Index(['Rank', 'Name', 'Country', 'DScore', 'EScore', 'Penalty',\n",
      "       'Total Score'],\n",
      "      dtype='object')\n",
      "Index(['Rank', 'Name', 'Country', 'DScore', 'EScore', 'Penalty',\n",
      "       'Total Score'],\n",
      "      dtype='object')\n",
      "Index(['Rank', 'Name', 'Country', 'DScore', 'EScore', 'Penalty',\n",
      "       'Total Score'],\n",
      "      dtype='object')\n",
      "Index(['Rank', 'Name', 'Country', 'DScore', 'EScore', 'Penalty',\n",
      "       'Total Score'],\n",
      "      dtype='object')\n",
      "Index(['Rank', 'Name', 'Country', 'DScore', 'EScore', 'Penalty',\n",
      "       'Total Score'],\n",
      "      dtype='object')\n"
     ]
    }
   ],
   "source": [
    "# list with correct columns names\n",
    "apparatus_col_names = ['Rank','Name','Country','DScore','EScore','Penalty','Total Score']\n",
    "\n",
    "vault_col_names = ['Rank','Name','Country','DScore','EScore','Penalty','Total Score']\n",
    "\n",
    "aa_col_names = ['Rank','Name','Country','DScore','EScore','Penalty']\n",
    "\n",
    "# list with all apparatus dataframe\n",
    "finals_data_frame = [df_junior_FX, df_junior_PH, df_junior_SR, df_junior_PB, df_junior_HB,\n",
    "                     df_senior_FX, df_senior_PH, df_senior_SR, df_senior_PB, df_senior_HB]\n",
    "\n",
    "aa_data_frame = [df_junior_qualification, df_junior_AA,\n",
    "                 df_senior_qualification, df_senior_AA]\n",
    "\n",
    "\n",
    "# loop changing columns names\n",
    "for frame in finals_data_frame:\n",
    "    frame.columns = apparatus_col_names\n",
    "\n",
    "# look on results\n",
    "for frame in finals_data_frame:\n",
    "    print(frame.columns)"
   ]
  }
 ],
 "metadata": {
  "kernelspec": {
   "display_name": "Python 3",
   "language": "python",
   "name": "python3"
  },
  "language_info": {
   "codemirror_mode": {
    "name": "ipython",
    "version": 3
   },
   "file_extension": ".py",
   "mimetype": "text/x-python",
   "name": "python",
   "nbconvert_exporter": "python",
   "pygments_lexer": "ipython3",
   "version": "3.11.2"
  }
 },
 "nbformat": 4,
 "nbformat_minor": 2
}
